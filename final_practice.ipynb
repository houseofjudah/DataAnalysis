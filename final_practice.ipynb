{
 "cells": [
  {
   "cell_type": "markdown",
   "id": "ea638fe8",
   "metadata": {},
   "source": [
    "# Genesys Tech Hub : Data Analysis Practical Challenge"
   ]
  },
  {
   "cell_type": "markdown",
   "id": "2a645cf8",
   "metadata": {},
   "source": [
    "**Author:** Kevin Obote\n",
    "\n"
   ]
  },
  {
   "cell_type": "markdown",
   "id": "d22b87ee",
   "metadata": {},
   "source": [
    "## Final Practical Test for Data Analysis Curriculum"
   ]
  },
  {
   "cell_type": "markdown",
   "id": "ae87771a",
   "metadata": {},
   "source": [
    "This notebook contains all the tasks and questions for the practical test on the data analysis curriculum.\n",
    "\n",
    "### Dataset:\n",
    "You can download the dataset required for this test from the following link:\n",
    "[Download Sales Data](https://docs.google.com/spreadsheets/d/1tf_2V8ZOV4m16iX48WIU1UKqn8ZMRumYklRmNd1Y_2w/edit?usp=sharing)"
   ]
  },
  {
   "cell_type": "code",
   "execution_count": null,
   "id": "4999f02b",
   "metadata": {},
   "outputs": [],
   "source": []
  },
  {
   "cell_type": "markdown",
   "id": "a0c71b5e",
   "metadata": {},
   "source": [
    "---"
   ]
  },
  {
   "cell_type": "markdown",
   "id": "a48bdae2",
   "metadata": {},
   "source": [
    "## Part 1: Introduction to Data Analysis\n",
    "\n",
    "Write a brief paragraph explaining the importance of data analysis in decision-making for a business like the one represented in the synthetic sales dataset.\n",
    "\n",
    "1. Describe two potential business insights that data analysis could reveal in this dataset.\n",
    "\n",
    "2. List five essential skills a data analyst would need to effectively analyze this dataset."
   ]
  },
  {
   "cell_type": "markdown",
   "id": "5c113efc",
   "metadata": {},
   "source": [
    "###  Use this for Part 1: 1\n"
   ]
  },
  {
   "cell_type": "markdown",
   "id": "90e2dea9",
   "metadata": {},
   "source": [
    "## Potential Business Insights\n",
    "\n",
    "1. Seasonal Sales Patterns: Data analysis could reveal seasonal     fluctuations in sales, enabling the business to adjust its inventory, pricing, and marketing strategies accordingly. For instance, if the analysis shows a surge in sales during summer months, the business could increase production and marketing efforts during this period to capitalize on the demand.\t\n",
    "\t\t\t\t\t\t\n",
    "2. Regional Sales Performance: Data analysis could uncover variations in sales performance across different regions, allowing the business to identify areas of strength and weakness. This insight could inform decisions on resource allocation, marketing campaigns, and sales team deployment to optimize performance in underperforming regions.\n",
    "\n",
    "\n"
   ]
  },
  {
   "cell_type": "markdown",
   "id": "87d58f9b",
   "metadata": {},
   "source": [
    "### Use this for Part 1:2"
   ]
  },
  {
   "cell_type": "markdown",
   "id": "3d9c50c3",
   "metadata": {},
   "source": [
    "# Essential Skills for a Data Analyst\n",
    "## To effectively analyze the synthetic sales dataset, a data analyst would need the following essential skills:\n",
    "\n",
    "1. Data Manipulation and Cleaning: The ability to collect, clean, and preprocess data to ensure accuracy and consistency.\n",
    "\n",
    "2. Statistical Knowledge: Understanding of statistical concepts, such as regression analysis, hypothesis testing, and confidence intervals, to extract meaningful insights from the data.\n",
    "\n",
    "3. Data Visualization: Skills to create informative and engaging visualizations to communicate insights to stakeholders.\n",
    "\n",
    "4. SQL and Database Management: Proficiency in querying and managing databases to extract and manipulate data.\n",
    "\n",
    "5. Business Acumen: Understanding of business operations, market trends, and industry dynamics to provide context and relevance to the analysis.\n"
   ]
  },
  {
   "cell_type": "markdown",
   "id": "6012c8aa",
   "metadata": {},
   "source": [
    "## Part 2: Tools and Basic Concepts\n",
    "\n",
    "### Instructions:\n",
    "1. Load the dataset into both Excel and Jupyter Notebook.\n",
    "\n",
    "2. In Jupyter Notebook, display:\n",
    "   - The first 10 rows of the dataset.\n",
    "   - Summary statistics for numerical columns (e.g., Sales, Quantity, Profit).\n",
    "\n",
    "3. In Excel, apply basic conditional formatting to highlight high sales values and calculate the average sales.\n",
    "\n"
   ]
  },
  {
   "cell_type": "code",
   "execution_count": null,
   "id": "1658b0ea",
   "metadata": {},
   "outputs": [],
   "source": [
    "import pandas as pd\n",
    "\n",
    "sales = pd.read_csv('sales_data.csv')\n",
    "\n",
    "sales.head(10)"
   ]
  },
  {
   "cell_type": "code",
   "execution_count": null,
   "id": "bf236b69",
   "metadata": {},
   "outputs": [],
   "source": [
    "sales[\"Profit\"].mean()\n"
   ]
  },
  {
   "cell_type": "markdown",
   "id": "ee0f15c2",
   "metadata": {},
   "source": [
    "## Part 3: Data Collection and Loading\n",
    "\n",
    "### Instructions:\n",
    "1. Write a Python script to load the dataset from a CSV file and print the number of rows and columns.\n",
    "\n",
    "2. Extract the 'Order Date,' 'Sales,' and 'Profit' columns, save them to a new CSV file, and verify the file’s contents.\n",
    "\n"
   ]
  },
  {
   "cell_type": "code",
   "execution_count": null,
   "id": "aed48c29",
   "metadata": {},
   "outputs": [],
   "source": [
    "#### Code Cell:\n",
    "\n",
    "# Load and print dataset dimensions\n",
    "# Add your code here\n",
    "\n",
    "# Extract and save specific columns\n",
    "# Add your code here\n",
    "\n",
    "import pandas as pd\n",
    "data = pd.read_csv(\"sales_data.csv\")\n",
    "\n",
    "print(f\"Number of rows: {data.shape[0]}\")\n",
    "print(f\"Number of columns: {data.shape[1]}\")\n",
    "\n",
    "extract_data = data[['Order Date', 'Sales', 'Profit']]\n",
    "\n",
    "extract_data.to_csv('extract_data_sales.csv', index=False)\n",
    "\n",
    "print(\"Extracted data:\")\n",
    "print(extract_data.head())\n"
   ]
  },
  {
   "cell_type": "markdown",
   "id": "48367175",
   "metadata": {},
   "source": [
    "## Part 4: Data Cleaning and Preprocessing\n",
    "\n",
    "### Instructions:\n",
    "1. Identify and handle any missing values in the dataset.\n",
    "\n",
    "2. Check for duplicates and remove any found.\n",
    "\n",
    "3. Normalize the 'Sales' column by applying Min-Max scaling (0 to 1).\n",
    "\n",
    "4. Create a new column categorizing sales into 'High,' 'Medium,' and 'Low' based on defined thresholds (e.g., High > $500, Medium $200-$500, Low < $200).\n",
    "\n"
   ]
  },
  {
   "cell_type": "code",
   "execution_count": null,
   "id": "f2a3f006",
   "metadata": {},
   "outputs": [],
   "source": [
    "#### Code Cell:\n",
    "import pandas as pd\n",
    "from sklearn.preprocessing import MinMaxScaler\n",
    "sales_data = pd.read_csv(\"sales_data.csv\")\n",
    "\n",
    "\n",
    "#Handle missing values and duplicates\n",
    "#Add your code here\n",
    "print(\"Check For Missing Values\")\n",
    "print( sales_data.isnull().sum() )\n",
    "\n",
    "print(\"Check for Duplicates\")\n",
    "print(sales_data.duplicated().sum())\n",
    "\n",
    "\n",
    "# Normalize 'Sales' column\n",
    "# Add your code here\n",
    "scaler = MinMaxScaler()\n",
    "sales_data['Sales'] = scaler.fit_transform(sales_data[['Sales']])\n",
    "\n",
    "# Categorize sales levels\n",
    "# Add your code here\n",
    "def sales_category(sales):\n",
    "    if sales > 500:\n",
    "        return \"High\"\n",
    "    elif 200 <= sales <= 500: \n",
    "        return \"Medium\"\n",
    "    else: \n",
    "        return \"Low\"\n",
    "    \n",
    "sales_data['Sales Category'] = sales_data['Sales'].apply(sales_category)\n",
    "\n",
    "print(\"Updated Dataset:\")\n",
    "print( sales_data.head(30) )"
   ]
  },
  {
   "cell_type": "markdown",
   "id": "e62fedcb",
   "metadata": {},
   "source": [
    "## Part 5: Data Querying and Manipulation\n",
    "\n",
    "### Instructions:\n",
    "1. Use SQLite (or another SQL database) to create a database and load the dataset.\n",
    "\n",
    "2. Write SQL queries to:\n",
    "   - Select all records where Sales are above $500.\n",
    "   - Calculate the total sales per product category.\n",
    "\n",
    "3. In Python, use Pandas to filter records with a Profit margin greater than 20%.\n"
   ]
  },
  {
   "cell_type": "code",
   "execution_count": null,
   "id": "a18bd5d5",
   "metadata": {},
   "outputs": [],
   "source": [
    "#### Code Cell:\n",
    "import sqlite3\n",
    "\n",
    "\n",
    "conn = sqlite3.connect('sales_database.db')\n",
    "\n",
    "df = pd.read_csv('sales_data.csv')\n",
    "\n",
    "df.to_sql('sales_data', conn, if_exists='replace', index=False)\n",
    "\n",
    "conn.commit()\n",
    "\n",
    "conn.close()\n",
    "\n"
   ]
  },
  {
   "cell_type": "markdown",
   "id": "5df798b3",
   "metadata": {},
   "source": [
    "## Part 6: Data Visualization Principles\n",
    "\n",
    "### Instructions:\n",
    "1. Create the following visualizations:\n",
    "   - A bar chart of total sales per region.\n",
    "   - A line chart showing monthly sales trends.\n",
    "   - A scatter plot of Sales vs. Profit, with points colored by category.\n",
    "\n",
    "2. Interpret the insights from each visualization and describe how they might inform business decisions.\n",
    "\n"
   ]
  },
  {
   "cell_type": "code",
   "execution_count": null,
   "id": "0d25e25e",
   "metadata": {},
   "outputs": [],
   "source": [
    "#### Code Cell:\n",
    "import matplotlib.pyplot as plt\n",
    "# Visualizations\n",
    "# Add code for bar chart\n",
    "df = pd.read_csv('sales_data.csv')\n",
    "\n",
    "regional_sale = df.groupby('Region')['Sales'].sum().reset_index()\n",
    "plt.figure(figsize=(10,6))\n",
    "plt.bar(regional_sale['Region'], regional_sale['Sales'])\n",
    "plt.xlabel('Region')\n",
    "plt.ylabel('Total Sales')\n",
    "plt.title('Total Sales per Region')\n",
    "plt.show()\n",
    "\n",
    "\n",
    "\n",
    "\n",
    "# Add code for line chart\n",
    "df['Order Date'] = pd.to_datetime(df['Order Date'])\n",
    "\n",
    "# Extract month and year from Order Date\n",
    "df['Month'] = df['Order Date'].dt.month\n",
    "df['Year'] = df['Order Date'].dt.year\n",
    "\n",
    "# Group by Month and Year, and calculate total Sales\n",
    "monthly_sales = df.groupby(['Year', 'Month'])['Sales'].sum().reset_index()\n",
    "\n",
    "# Create a line chart\n",
    "plt.figure(figsize=(12, 6))\n",
    "plt.plot(monthly_sales['Month'] + monthly_sales['Year'] / 12.0, monthly_sales['Sales'])\n",
    "plt.xlabel('Month')\n",
    "plt.ylabel('Total Sales')\n",
    "plt.title('Monthly Sales Trends')\n",
    "plt.show()\n"
   ]
  },
  {
   "cell_type": "code",
   "execution_count": null,
   "id": "420804fe",
   "metadata": {},
   "outputs": [],
   "source": [
    "import matplotlib.pyplot as plt\n",
    "import pandas as pd\n",
    "\n",
    "df = pd.read_csv('sales_data.csv')\n",
    "\n",
    "category_colors= {'Technology':'blue','Furniture': 'red', 'Office Supplies': 'green'}\n",
    "# Create a scatter plot\n",
    "\n",
    "plt.figure(figsize=(10, 8))\n",
    "plt.scatter(df['Sales'], df['Profit'], c=[category_colors[list] for list in df['Category']])\n",
    "plt.xlabel('Sales')\n",
    "plt.ylabel('Profit')\n",
    "plt.title('Sales vs. Profit by Category')\n",
    "plt.colorbar(label='Category')\n",
    "plt.show()"
   ]
  },
  {
   "cell_type": "markdown",
   "id": "ea442623",
   "metadata": {},
   "source": [
    "# Insight: Bar Chart\n",
    "The West region has the highest total sales, followed closely by the South region. The East and North regions have significantly lower total sales. This insight might inform business decisions such as:\n",
    "\n",
    "Allocating more resources to the West and South regions to maintain their sales momentum.\n",
    "Identifying opportunities to increase sales in the East and North regions, such as targeted marketing campaigns or strategic partnerships.\n",
    "\n",
    "# Insight: Line Chart showing sales trends\n",
    "The monthly sales trend shows a steady increase in sales over time, with some seasonal fluctuations. There is a noticeable dip in sales during the winter months (December to February). This insight might inform business decisions such as:\n",
    "\n",
    "Planning for seasonal demand fluctuations by adjusting inventory and staffing levels.\n",
    "Identifying opportunities to boost sales during the winter months, such as offering promotions or discounts.\n",
    "\n",
    "#  Insight: Scatter Plot\n",
    "The scatter plot shows a positive correlation between Sales and Profit, with some categories having higher profit margins than others. The Technology category has the highest profit margins, while the Office Supplies category has the lowest. This insight might inform business decisions such as:\n",
    "\n",
    "Focusing on high-margin categories like Technology to maximize profits.\n",
    "Identifying opportunities to improve profit margins in low-margin categories like Office Supplies, such as through cost reduction or pricing strategies."
   ]
  },
  {
   "cell_type": "markdown",
   "id": "0b3cd5c7",
   "metadata": {},
   "source": [
    "## Part 7: Interactive Dashboards and Reporting\n",
    "\n",
    "### Instructions:\n",
    "1. In Power BI or Excel, create an interactive dashboard that includes:\n",
    "   - A summary of total sales and profit by region.\n",
    "   - A monthly sales trend with filters for Region and Category.\n",
    "\n",
    "2. Write a brief report summarizing the insights from your dashboard, and explain how these insights could guide business strategy.\n",
    "\n"
   ]
  },
  {
   "cell_type": "code",
   "execution_count": null,
   "id": "3e9f46cd",
   "metadata": {},
   "outputs": [],
   "source": [
    "#### Code Cell:\n",
    "\n",
    "# Final Report and Dashboard summary\n",
    "# Summarize your insights here."
   ]
  },
  {
   "cell_type": "markdown",
   "id": "d3fe3061",
   "metadata": {},
   "source": [
    "## Part 8: SQL\n",
    "\n",
    "### Instructions:\n",
    "\n",
    "\n"
   ]
  },
  {
   "cell_type": "markdown",
   "id": "c9259925",
   "metadata": {},
   "source": [
    "1. Basic Selection and Filtering\n",
    "   Write a SQL query to select all columns for records where sales is greater than $500:"
   ]
  },
  {
   "cell_type": "markdown",
   "id": "bc8bd96b",
   "metadata": {},
   "source": [
    "Test on your individual sql platform and just add your code below :\n"
   ]
  },
  {
   "cell_type": "markdown",
   "id": "8b2f8c4b",
   "metadata": {},
   "source": [
    "\n",
    "2. Aggregations\n",
    "   Write a SQL query to calculate the total sales per product category. Order the results by the total sales in descending order."
   ]
  },
  {
   "cell_type": "markdown",
   "id": "15f95da2",
   "metadata": {},
   "source": [
    "Test on your individual sql platform and just add your code below :\n"
   ]
  },
  {
   "cell_type": "markdown",
   "id": "a62a1aa0",
   "metadata": {},
   "source": [
    "3. Write a SQL query to find the average profit by region."
   ]
  },
  {
   "cell_type": "markdown",
   "id": "dc063878",
   "metadata": {},
   "source": [
    "Test on your individual sql platform and just add your code below :\n"
   ]
  },
  {
   "cell_type": "markdown",
   "id": "c9129621",
   "metadata": {},
   "source": [
    "4. Date-Based Filtering\n",
    "\n",
    "Write a SQL query to select all records from the year 2023."
   ]
  },
  {
   "cell_type": "markdown",
   "id": "0f220e39",
   "metadata": {},
   "source": [
    "Test on your individual sql platform and just add your code below :\n"
   ]
  },
  {
   "cell_type": "markdown",
   "id": "a924bc34",
   "metadata": {},
   "source": [
    "5. Grouping and Aggregating\n",
    "\n",
    "Write a SQL query to calculate the total quantity sold for each category and sub-category combination.\n",
    "\n",
    "Write a SQL query to find the top 5 products by total sales amount.\n"
   ]
  },
  {
   "cell_type": "markdown",
   "id": "ad970465",
   "metadata": {},
   "source": [
    "Test on your individual sql platform and just add your code below :\n"
   ]
  },
  {
   "cell_type": "markdown",
   "id": "81ed86f0",
   "metadata": {},
   "source": [
    "6. Complex Filtering\n",
    "\n",
    "Write a SQL query to find records where the Profit Margin (calculated as Profit / Sales * 100) is greater than 20% and the Category is \"Office Supplies.\""
   ]
  },
  {
   "cell_type": "markdown",
   "id": "dc6a49a0",
   "metadata": {},
   "source": [
    "Test on your individual sql platform and just add your code below :"
   ]
  }
 ],
 "metadata": {
  "language_info": {
   "name": "python"
  }
 },
 "nbformat": 4,
 "nbformat_minor": 5
}
